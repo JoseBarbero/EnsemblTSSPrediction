{
 "cells": [
  {
   "cell_type": "code",
   "execution_count": 24,
   "metadata": {},
   "outputs": [],
   "source": [
    "import numpy as np\n",
    "import os\n",
    "import pickle as pkl"
   ]
  },
  {
   "cell_type": "code",
   "execution_count": 30,
   "metadata": {},
   "outputs": [],
   "source": [
    "logs_folder = \"logs\"\n",
    "# TODO hacerlo para todas las folders y pintándolo un poco bonito\n",
    "model_name = \"svm_wd_10pc\""
   ]
  },
  {
   "cell_type": "code",
   "execution_count": 31,
   "metadata": {},
   "outputs": [],
   "source": [
    "y_pred = pkl.load(open(os.path.join(logs_folder, model_name,  model_name + \"_y_proba_test.pkl\"), \"rb\"))\n",
    "y_test = pkl.load(open(os.path.join(logs_folder, model_name, model_name + \"_y_test.pkl\"), \"rb\"))"
   ]
  },
  {
   "cell_type": "code",
   "execution_count": 32,
   "metadata": {},
   "outputs": [],
   "source": [
    "# Get the best threshold to maximize F1 score\n",
    "from sklearn.metrics import f1_score\n",
    "from sklearn.metrics import precision_recall_curve\n",
    "from sklearn.metrics import average_precision_score\n",
    "from sklearn.metrics import roc_auc_score\n",
    "from sklearn.metrics import accuracy_score\n",
    "from sklearn.metrics import classification_report  # classfication summary\n",
    "from sklearn.metrics import log_loss\n",
    "\n",
    "# Get the best threshold to maximize F1 score\n",
    "precision, recall, thresholds = precision_recall_curve(y_test, y_pred)\n",
    "f1_scores = 2 * (precision * recall) / (precision + recall)\n"
   ]
  },
  {
   "cell_type": "code",
   "execution_count": 33,
   "metadata": {},
   "outputs": [
    {
     "data": {
      "text/plain": [
       "0.44060301507537686"
      ]
     },
     "execution_count": 33,
     "metadata": {},
     "output_type": "execute_result"
    }
   ],
   "source": [
    "# Remove NaNs\n",
    "f1_scores = f1_scores[~np.isnan(f1_scores)]\n",
    "np.max(f1_scores)"
   ]
  },
  {
   "cell_type": "code",
   "execution_count": null,
   "metadata": {},
   "outputs": [],
   "source": []
  }
 ],
 "metadata": {
  "kernelspec": {
   "display_name": "tss",
   "language": "python",
   "name": "python3"
  },
  "language_info": {
   "codemirror_mode": {
    "name": "ipython",
    "version": 3
   },
   "file_extension": ".py",
   "mimetype": "text/x-python",
   "name": "python",
   "nbconvert_exporter": "python",
   "pygments_lexer": "ipython3",
   "version": "3.7.15"
  },
  "orig_nbformat": 4,
  "vscode": {
   "interpreter": {
    "hash": "b388a88d5afaf0c7c549d845d5fec248bfa4fca6c34f3032a8bacb3896701f5d"
   }
  }
 },
 "nbformat": 4,
 "nbformat_minor": 2
}
